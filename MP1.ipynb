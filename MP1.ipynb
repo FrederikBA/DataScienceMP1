{
 "cells": [
  {
   "cell_type": "code",
   "execution_count": null,
   "id": "a8d7f0df",
   "metadata": {},
   "outputs": [],
   "source": [
    "tdi@cphbusiness.dk\n",
    "Data Science 2023\n",
    "Mini Project 1: Data Wrangling\n",
    "Objectives\n",
    "The intended learning objective of this project is to provide learning experience and build\n",
    "professional skills in working on business case, data collection, cleaning and preparation for analysis,\n",
    "machine learning and deep learning.\n",
    "This project\n",
    "- integrates and wraps-up the first three problems worked out as class assignments,\n",
    "- concludes the first content flow of the course,\n",
    "- serves as a resource of knowledge and experience for the large exam project.\n",
    "Tasks\n",
    "1. Use the first Problem Solving project as a basis.\n",
    "2. Extend it with adding the data collected in the second Problem Solving project.\n",
    "3. Perform feature analysis and engineering as in the third Problem Solving project.\n",
    "4. Use visualisation techniques as much as you find appropriate.\n",
    "5. Suggest a demo usage scenario.\n",
    "6. Briefly explain the process, reflect on your experience and choice of methods and measures\n",
    "in a readme file.\n",
    "7. Develop your program solution in Github and submit a link to the repository in Peergrade.\n",
    "Remeber to add installation instructions if necessary.\n",
    "8. Follow the Peergrade schedule for submitting the project.\n",
    "Note\n",
    "You can work on this project in groups or individually.\n",
    "You can reuse the code created in the problem-solving assignments.\n",
    "You can reuse the code created in this assignment in future projects, including the exam project.\n",
    "A proper solution brings 10 study poin"
   ]
  }
 ],
 "metadata": {
  "kernelspec": {
   "display_name": "Python 3 (ipykernel)",
   "language": "python",
   "name": "python3"
  },
  "language_info": {
   "codemirror_mode": {
    "name": "ipython",
    "version": 3
   },
   "file_extension": ".py",
   "mimetype": "text/x-python",
   "name": "python",
   "nbconvert_exporter": "python",
   "pygments_lexer": "ipython3",
   "version": "3.9.13"
  }
 },
 "nbformat": 4,
 "nbformat_minor": 5
}
