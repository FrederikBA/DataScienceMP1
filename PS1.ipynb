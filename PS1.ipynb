{
 "cells": [
  {
   "cell_type": "code",
   "execution_count": null,
   "id": "6150c562",
   "metadata": {
    "pycharm": {
     "name": "#%%\n"
    },
    "scrolled": true
   },
   "outputs": [],
   "source": [
    "import numpy as np\n",
    "import pandas as pd\n",
    "\n",
    "df = pd.read_excel('data/SOFT-3.xlsx')"
   ]
  },
  {
   "cell_type": "code",
   "execution_count": null,
   "id": "4b9e2809",
   "metadata": {
    "pycharm": {
     "name": "#%%\n"
    }
   },
   "outputs": [],
   "source": [
    "#Install neccessary dependencies\n",
    "#!python -m pip install -U faker"
   ]
  },
  {
   "cell_type": "code",
   "execution_count": null,
   "id": "4703164e",
   "metadata": {
    "pycharm": {
     "name": "#%%\n"
    }
   },
   "outputs": [],
   "source": [
    "from faker import Faker\n",
    "\n",
    "faker = Faker()# Test fake data generation\n",
    "print(\"The Faker library can generate fake names. By running 'faker.name()', we get:\")\n",
    "faker.name()\n",
    "\n",
    "Faker.seed(4321)\n",
    "dict_names = {name: faker.name() for name in df['student'].unique()}\n",
    "df['student'] = df['student'].map(dict_names)\n",
    "df.head(20)\n"
   ]
  },
  {
   "cell_type": "code",
   "execution_count": null,
   "id": "15728157",
   "metadata": {
    "pycharm": {
     "name": "#%%\n"
    }
   },
   "outputs": [],
   "source": [
    "#Method that fetches the CVR API using the companies CVR number.\n",
    "\n",
    "import urllib.request as request\n",
    "import json \n",
    "import contextlib\n",
    "\n",
    "def cvrapi(cvr):\n",
    "  request_a = request.Request(\n",
    "    url='https://cvrapi.dk/api?country=dk&vat=%s' % cvr,\n",
    "    headers={\n",
    "      'User-Agent': 'ds-assignment'})\n",
    "  with contextlib.closing(request.urlopen(request_a)) as response:\n",
    "    return json.loads(response.read())"
   ]
  },
  {
   "cell_type": "code",
   "execution_count": null,
   "id": "347e143f",
   "metadata": {
    "pycharm": {
     "name": "#%%\n"
    }
   },
   "outputs": [],
   "source": [
    "#Put all companies CVR in a list of strings\n",
    "companies_cvr = df['cvr'].tolist()\n",
    "\n",
    "#Remove duplicates\n",
    "unique_cvr = [cvr for cvr in set(companies_cvr)]\n",
    "\n",
    "print(unique_cvr)"
   ]
  },
  {
   "cell_type": "code",
   "execution_count": null,
   "id": "8a117478",
   "metadata": {
    "pycharm": {
     "name": "#%%\n"
    }
   },
   "outputs": [],
   "source": [
    "#Call API for each CVR and write response json to a json file\n",
    "\n",
    "import json\n",
    "\n",
    "companies_list = []\n",
    "\n",
    "for c in unique_cvr:\n",
    "    company_json = (cvrapi(c))\n",
    "    companies_list.append(company_json)\n",
    "\n",
    "with open(\"data/companies.json\", \"w\") as file:\n",
    "    json.dump(companies_list, file)"
   ]
  },
  {
   "cell_type": "code",
   "execution_count": null,
   "id": "b2422b78",
   "metadata": {
    "pycharm": {
     "name": "#%%\n"
    }
   },
   "outputs": [],
   "source": [
    "#Insert JSON data from file to pandas dataframe\n",
    "json_df = pd.read_json('data/companies.json')\n",
    "\n",
    "json_df.head(11)"
   ]
  },
  {
   "cell_type": "code",
   "execution_count": null,
   "id": "939ed5ec",
   "metadata": {
    "pycharm": {
     "name": "#%%\n"
    }
   },
   "outputs": [],
   "source": [
    "#Install geopy\n",
    "#!python -m pip install -U geopy"
   ]
  },
  {
   "cell_type": "code",
   "execution_count": null,
   "id": "2871b680",
   "metadata": {
    "pycharm": {
     "name": "#%%\n"
    }
   },
   "outputs": [],
   "source": [
    "from geopy.geocoders import Nominatim\n",
    "geolocator = Nominatim(user_agent=\"geoapiExercises\")\n",
    "\n",
    "company_cities = json_df['city'].tolist()\n",
    "company_addresses = json_df['address'].tolist()\n",
    "\n",
    "addresses_stripped = [address.split(',')[0] for address in company_addresses]\n",
    "\n",
    "addresses = []\n",
    "for i in range(len(addresses_stripped)):\n",
    "    addresses.append(addresses_stripped[i] + \", \" + company_cities[i])\n",
    "\n",
    "latitudes = []\n",
    "longitudes = []\n",
    "for address in addresses:\n",
    "    location = geolocator.geocode(address)\n",
    "    latitudes.append((location.latitude))\n",
    "    longitudes.append((location.longitude))\n",
    "\n",
    "print(latitudes)\n",
    "print(longitudes)"
   ]
  },
  {
   "cell_type": "code",
   "execution_count": null,
   "id": "d43ac831",
   "metadata": {
    "pycharm": {
     "name": "#%%\n"
    }
   },
   "outputs": [],
   "source": [
    "#Add latitude and longitude to the Dataframe 'json_df'\n",
    "\n",
    "#Latitudes\n",
    "json_df = json_df.assign(latitude=latitudes)\n",
    "\n",
    "#Longitudes\n",
    "json_df = json_df.assign(longitude=longitudes)\n",
    "\n",
    "json_df.head(10)"
   ]
  },
  {
   "cell_type": "code",
   "execution_count": null,
   "id": "ecd39f89",
   "metadata": {
    "pycharm": {
     "name": "#%%\n"
    }
   },
   "outputs": [],
   "source": [
    "#Clean dataframe\n",
    "\n",
    "clean_df = json_df[['vat', 'name', 'city', 'address', 'zipcode', 'latitude', 'longitude']]\n",
    "\n",
    "clean_df.head(20)"
   ]
  },
  {
   "cell_type": "code",
   "execution_count": null,
   "id": "f388b4e7",
   "metadata": {
    "pycharm": {
     "name": "#%%\n"
    }
   },
   "outputs": [],
   "source": [
    "#Install folium\n",
    "#!python -m pip install -U folium"
   ]
  },
  {
   "cell_type": "code",
   "execution_count": null,
   "id": "6caa50b2",
   "metadata": {
    "pycharm": {
     "name": "#%%\n"
    },
    "scrolled": true
   },
   "outputs": [],
   "source": [
    "import folium\n",
    "\n",
    "# Create a base map centered on Denmark\n",
    "denmark_map = folium.Map(location=[55.67, 12.57], zoom_start=7)\n",
    "\n",
    "#Add markers to where students have been in internship\n",
    "for index, row in clean_df.iterrows():\n",
    "    folium.Marker([row[\"latitude\"], row[\"longitude\"]], popup=row[\"name\"]).add_to(denmark_map)\n",
    "\n",
    "# Show the map\n",
    "denmark_map"
   ]
  },
  {
   "cell_type": "code",
   "execution_count": null,
   "id": "62d8cf58",
   "metadata": {
    "pycharm": {
     "name": "#%%\n"
    }
   },
   "outputs": [],
   "source": [
    "#Save cleaned dataframe to CSV file\n",
    "clean_df.to_csv(\"data/cleaned.csv\", index=False)"
   ]
  },
  {
   "cell_type": "code",
   "execution_count": null,
   "id": "ea404fe4",
   "metadata": {
    "pycharm": {
     "name": "#%%\n"
    }
   },
   "outputs": [],
   "source": [
    "import smtplib\n",
    "import ssl\n",
    "from email.message import EmailMessage\n",
    "\n",
    "email_sender = 'cphfa116@gmail.com'\n",
    "email_password = '***********'\n",
    "email_receiver = 'tdi@cphbusiness.dk'\n",
    "\n",
    "subject = 'Data Science Assignment - Automated Email Frederik'\n",
    "body = \"\"\"\n",
    "This is an automated email sent from my python application in the data science course\n",
    "\"\"\"\n",
    "\n",
    "em = EmailMessage()\n",
    "em['From'] = email_sender\n",
    "em['To'] = email_receiver\n",
    "em['Subject'] = subject\n",
    "em.set_content(body)\n",
    "\n",
    "context = ssl.create_default_context()\n",
    "\n",
    "with smtplib.SMTP_SSL('smtp.gmail.com', 465, context=context) as smtp:\n",
    "    smtp.login(email_sender, email_password)\n",
    "    smtp.sendmail(email_sender, email_receiver, em.as_string())"
   ]
  }
 ],
 "metadata": {
  "kernelspec": {
   "display_name": "Python 3 (ipykernel)",
   "language": "python",
   "name": "python3"
  },
  "language_info": {
   "codemirror_mode": {
    "name": "ipython",
    "version": 3
   },
   "file_extension": ".py",
   "mimetype": "text/x-python",
   "name": "python",
   "nbconvert_exporter": "python",
   "pygments_lexer": "ipython3",
   "version": "3.9.13"
  }
 },
 "nbformat": 4,
 "nbformat_minor": 5
}
