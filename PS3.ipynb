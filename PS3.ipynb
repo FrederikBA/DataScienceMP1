{
 "cells": [
  {
   "cell_type": "markdown",
   "id": "d4a92e78",
   "metadata": {},
   "source": [
    "1. Revise your Mini Project dataset and explore the following parameters of it:\n",
    "- number of columns and rows\n",
    "- type of data\n",
    "- distribution of numeric data (is it a normal distribution?)\n",
    "- descriptive parameters of the numeric data (mean, median, mode, min, max, range,\n",
    "count)\n",
    "- missing values\n",
    "2. Prepare the data for further analysis by\n",
    "- replacing/removing the cells with damaged/missing data\n",
    "- drilling down/rolling up attributes\n",
    "- coding the text data with numeral labels\n",
    "3. Analyze the correlations and/or the similarity of the properties as appropriate\n",
    "4. Optional: Apply PCA of attributes, if needed.\n",
    "5. Optional: Use different diagrams/geo-maps to visualize the data in a user-friendly\n",
    "way"
   ]
  },
  {
   "cell_type": "code",
   "execution_count": 1,
   "id": "72ebd015",
   "metadata": {},
   "outputs": [],
   "source": [
    "import pandas as pd\n",
    "from scipy.stats import shapiro\n",
    "import pandas as pd\n",
    "import statistics\n",
    "\n",
    "df = pd.read_csv('data/clean_data.csv')\n"
   ]
  },
  {
   "cell_type": "code",
   "execution_count": 2,
   "id": "116a1435",
   "metadata": {},
   "outputs": [
    {
     "name": "stdout",
     "output_type": "stream",
     "text": [
      "Number of rows: 12\n",
      "Number of columns: 26\n"
     ]
    },
    {
     "data": {
      "text/plain": [
       "vat                  int64\n",
       "name                object\n",
       "address             object\n",
       "zipcode              int64\n",
       "city                object\n",
       "cityname           float64\n",
       "protected             bool\n",
       "phone              float64\n",
       "email               object\n",
       "fax                float64\n",
       "startdate           object\n",
       "enddate            float64\n",
       "employees            int64\n",
       "addressco          float64\n",
       "industrycode         int64\n",
       "industrydesc        object\n",
       "companycode          int64\n",
       "companydesc         object\n",
       "creditstartdate    float64\n",
       "creditbankrupt        bool\n",
       "creditstatus       float64\n",
       "owners              object\n",
       "productionunits     object\n",
       "t                    int64\n",
       "version              int64\n",
       "website             object\n",
       "dtype: object"
      ]
     },
     "execution_count": 2,
     "metadata": {},
     "output_type": "execute_result"
    }
   ],
   "source": [
    "#Assigment 1\n",
    "\n",
    "# number of columns and rows in the dataframe.\n",
    "print(\"Number of rows:\", df.shape[0])\n",
    "print(\"Number of columns:\", df.shape[1])\n",
    "\n",
    "# type of data in the dataframe columns.\n",
    "df.dtypes\n",
    "\n"
   ]
  },
  {
   "cell_type": "code",
   "execution_count": 3,
   "id": "9bc174a7",
   "metadata": {},
   "outputs": [
    {
     "name": "stdout",
     "output_type": "stream",
     "text": [
      "The data is not normally distributed.\n"
     ]
    }
   ],
   "source": [
    "# Getting numeric values from original Dataframe.\n",
    "numeric = df['employees']\n",
    "\n",
    "# normal distribution of numeric data on Employees column.\n",
    "stat, p = shapiro(numeric)\n",
    "\n",
    "alpha = 0.05\n",
    "if p > alpha:\n",
    "    print(\"The data is likely normally distributed.\")\n",
    "else:\n",
    "    print(\"The data is not normally distributed.\")"
   ]
  },
  {
   "cell_type": "code",
   "execution_count": 5,
   "id": "92669588",
   "metadata": {},
   "outputs": [
    {
     "name": "stdout",
     "output_type": "stream",
     "text": [
      "List of numbers: [1886, 1464, 34, 1596, 8, 19, 2299, 21663, 86, 60, 77, 3614]\n",
      "Sum: 32806\n",
      "Count: 12\n",
      "Mean: 2733.8333333333335\n",
      "Median: 775.0\n",
      "Mode: 1886\n",
      "Variance: 36928349.42424243\n",
      "Standard deviation: 6076.870035161393\n"
     ]
    }
   ],
   "source": [
    "# descriptive parameters of the numeric data (mean, median, mode, min, max, range, count)\n",
    "\n",
    "\n",
    "# convert the 'Age' column to a list\n",
    "employees_list = numeric.tolist()\n",
    "\n",
    "# calculate the sum, count, mean, median, mode, variance, and standard deviation\n",
    "total_sum = sum(employees_list)\n",
    "count = len(employees_list)\n",
    "mean = total_sum / count\n",
    "median = statistics.median(employees_list)\n",
    "mode = statistics.mode(employees_list)\n",
    "variance = statistics.variance(employees_list)\n",
    "std_deviation = statistics.stdev(employees_list)\n",
    "\n",
    "# print the results\n",
    "print(f\"List of numbers: {employees_list}\")\n",
    "print(f\"Mean: {mean}\")\n",
    "print(f\"Median: {median}\")\n",
    "print(f\"Mode: {mode}\")\n",
    "#min\n",
    "#max\n",
    "\n",
    "\n",
    "print(f\"Sum: {total_sum}\")\n",
    "print(f\"Count: {count}\")\n",
    "\n",
    "\n",
    "\n",
    "print(f\"Variance: {variance}\")\n",
    "print(f\"Standard deviation: {std_deviation}\")\n"
   ]
  },
  {
   "cell_type": "code",
   "execution_count": null,
   "id": "b35e24da",
   "metadata": {},
   "outputs": [],
   "source": []
  }
 ],
 "metadata": {
  "kernelspec": {
   "display_name": "Python 3 (ipykernel)",
   "language": "python",
   "name": "python3"
  },
  "language_info": {
   "codemirror_mode": {
    "name": "ipython",
    "version": 3
   },
   "file_extension": ".py",
   "mimetype": "text/x-python",
   "name": "python",
   "nbconvert_exporter": "python",
   "pygments_lexer": "ipython3",
   "version": "3.9.13"
  }
 },
 "nbformat": 4,
 "nbformat_minor": 5
}
